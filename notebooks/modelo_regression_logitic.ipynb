{
 "cells": [
  {
   "cell_type": "code",
   "execution_count": 25,
   "metadata": {},
   "outputs": [],
   "source": [
    "import pandas as pd\n",
    "import numpy as np\n",
    "from sklearn.model_selection import train_test_split\n",
    "from sklearn.preprocessing import StandardScaler\n",
    "from sklearn.linear_model import LogisticRegression\n",
    "from sklearn.metrics import classification_report, confusion_matrix, roc_curve, auc # Podriamos importar todo con un solo comando: from sklearn.metrics import *\n",
    "import seaborn as sns\n",
    "import matplotlib.pyplot as plt\n",
    "import joblib"
   ]
  },
  {
   "cell_type": "code",
   "execution_count": 13,
   "metadata": {},
   "outputs": [],
   "source": [
    "# Cargar el dataset\n",
    "# Asegúrate de cargar el dataset en el mismo entorno o ajustar la ruta.\n",
    "data = pd.read_csv(\"../data/creditcard_2023.csv\")\n",
    "\n",
    "# Selección de columnas relevantes según análisis de importancia\n",
    "selected_columns = ['V4', 'V10', 'V11', 'V12', 'V14', 'V16', 'V17', 'V2', 'V3', 'V7', 'V21', 'Amount', 'Class']\n",
    "data_train = data[selected_columns]"
   ]
  },
  {
   "cell_type": "code",
   "execution_count": 14,
   "metadata": {},
   "outputs": [
    {
     "data": {
      "text/html": [
       "<div>\n",
       "<style scoped>\n",
       "    .dataframe tbody tr th:only-of-type {\n",
       "        vertical-align: middle;\n",
       "    }\n",
       "\n",
       "    .dataframe tbody tr th {\n",
       "        vertical-align: top;\n",
       "    }\n",
       "\n",
       "    .dataframe thead th {\n",
       "        text-align: right;\n",
       "    }\n",
       "</style>\n",
       "<table border=\"1\" class=\"dataframe\">\n",
       "  <thead>\n",
       "    <tr style=\"text-align: right;\">\n",
       "      <th></th>\n",
       "      <th>V4</th>\n",
       "      <th>V10</th>\n",
       "      <th>V11</th>\n",
       "      <th>V12</th>\n",
       "      <th>V14</th>\n",
       "      <th>V16</th>\n",
       "      <th>V17</th>\n",
       "      <th>V2</th>\n",
       "      <th>V3</th>\n",
       "      <th>V7</th>\n",
       "      <th>V21</th>\n",
       "      <th>Amount</th>\n",
       "      <th>Class</th>\n",
       "    </tr>\n",
       "  </thead>\n",
       "  <tbody>\n",
       "    <tr>\n",
       "      <th>0</th>\n",
       "      <td>-0.083724</td>\n",
       "      <td>0.637735</td>\n",
       "      <td>-0.987020</td>\n",
       "      <td>0.293438</td>\n",
       "      <td>0.549020</td>\n",
       "      <td>0.215598</td>\n",
       "      <td>0.512307</td>\n",
       "      <td>-0.469648</td>\n",
       "      <td>2.496266</td>\n",
       "      <td>0.519014</td>\n",
       "      <td>-0.110552</td>\n",
       "      <td>17982.10</td>\n",
       "      <td>0</td>\n",
       "    </tr>\n",
       "    <tr>\n",
       "      <th>1</th>\n",
       "      <td>-0.429654</td>\n",
       "      <td>0.529808</td>\n",
       "      <td>0.140107</td>\n",
       "      <td>1.564246</td>\n",
       "      <td>0.627719</td>\n",
       "      <td>0.789188</td>\n",
       "      <td>0.403810</td>\n",
       "      <td>-0.356045</td>\n",
       "      <td>0.558056</td>\n",
       "      <td>0.406466</td>\n",
       "      <td>-0.194936</td>\n",
       "      <td>6531.37</td>\n",
       "      <td>0</td>\n",
       "    </tr>\n",
       "    <tr>\n",
       "      <th>2</th>\n",
       "      <td>-0.457986</td>\n",
       "      <td>0.690708</td>\n",
       "      <td>-0.272985</td>\n",
       "      <td>0.659201</td>\n",
       "      <td>0.616874</td>\n",
       "      <td>-0.577514</td>\n",
       "      <td>0.886526</td>\n",
       "      <td>-0.949385</td>\n",
       "      <td>1.728538</td>\n",
       "      <td>0.743511</td>\n",
       "      <td>-0.005020</td>\n",
       "      <td>2513.54</td>\n",
       "      <td>0</td>\n",
       "    </tr>\n",
       "    <tr>\n",
       "      <th>3</th>\n",
       "      <td>-1.090178</td>\n",
       "      <td>0.575231</td>\n",
       "      <td>-0.752581</td>\n",
       "      <td>0.737483</td>\n",
       "      <td>0.559535</td>\n",
       "      <td>-0.030669</td>\n",
       "      <td>0.242629</td>\n",
       "      <td>-0.508959</td>\n",
       "      <td>1.746840</td>\n",
       "      <td>0.518269</td>\n",
       "      <td>-0.146927</td>\n",
       "      <td>5384.44</td>\n",
       "      <td>0</td>\n",
       "    </tr>\n",
       "    <tr>\n",
       "      <th>4</th>\n",
       "      <td>-0.448293</td>\n",
       "      <td>0.968046</td>\n",
       "      <td>-1.203171</td>\n",
       "      <td>1.029577</td>\n",
       "      <td>0.241454</td>\n",
       "      <td>0.224538</td>\n",
       "      <td>0.366466</td>\n",
       "      <td>-0.165280</td>\n",
       "      <td>1.527053</td>\n",
       "      <td>0.658849</td>\n",
       "      <td>-0.106984</td>\n",
       "      <td>14278.97</td>\n",
       "      <td>0</td>\n",
       "    </tr>\n",
       "  </tbody>\n",
       "</table>\n",
       "</div>"
      ],
      "text/plain": [
       "         V4       V10       V11       V12       V14       V16       V17  \\\n",
       "0 -0.083724  0.637735 -0.987020  0.293438  0.549020  0.215598  0.512307   \n",
       "1 -0.429654  0.529808  0.140107  1.564246  0.627719  0.789188  0.403810   \n",
       "2 -0.457986  0.690708 -0.272985  0.659201  0.616874 -0.577514  0.886526   \n",
       "3 -1.090178  0.575231 -0.752581  0.737483  0.559535 -0.030669  0.242629   \n",
       "4 -0.448293  0.968046 -1.203171  1.029577  0.241454  0.224538  0.366466   \n",
       "\n",
       "         V2        V3        V7       V21    Amount  Class  \n",
       "0 -0.469648  2.496266  0.519014 -0.110552  17982.10      0  \n",
       "1 -0.356045  0.558056  0.406466 -0.194936   6531.37      0  \n",
       "2 -0.949385  1.728538  0.743511 -0.005020   2513.54      0  \n",
       "3 -0.508959  1.746840  0.518269 -0.146927   5384.44      0  \n",
       "4 -0.165280  1.527053  0.658849 -0.106984  14278.97      0  "
      ]
     },
     "execution_count": 14,
     "metadata": {},
     "output_type": "execute_result"
    }
   ],
   "source": [
    "data_train.head()"
   ]
  },
  {
   "cell_type": "code",
   "execution_count": 15,
   "metadata": {},
   "outputs": [
    {
     "name": "stdout",
     "output_type": "stream",
     "text": [
      "[0 1]\n"
     ]
    }
   ],
   "source": [
    "valores_unicos = data_train['Class'].unique()\n",
    "print(valores_unicos)"
   ]
  },
  {
   "cell_type": "code",
   "execution_count": 16,
   "metadata": {},
   "outputs": [
    {
     "name": "stdout",
     "output_type": "stream",
     "text": [
      "Matriz de Confusión:\n",
      "[[55638  1225]\n",
      " [ 3259 53604]]\n"
     ]
    }
   ],
   "source": [
    "\n",
    "\n",
    "# Separar características (X) y la variable objetivo (y)\n",
    "X = data_train.drop(columns=['Class'])\n",
    "y = data_train['Class']\n",
    "\n",
    "# Dividir en conjunto de entrenamiento y prueba\n",
    "X_train, X_test, y_train, y_test = train_test_split(X, y, test_size=0.2, random_state=42, stratify=y)\n",
    "\n",
    "# Escalar los datos (caracteristicas)\n",
    "scaler = StandardScaler()\n",
    "X_train_scaled = scaler.fit_transform(X_train)\n",
    "X_test_scaled = scaler.transform(X_test)\n",
    "\n",
    "# Entrenar el modelo de Regresión Logística\n",
    "model = LogisticRegression(random_state=42)\n",
    "model.fit(X_train_scaled, y_train)\n",
    "\n",
    "# Realizar predicciones\n",
    "y_pred = model.predict(X_test_scaled)\n",
    "\n",
    "# Evaluación del modelo\n",
    "print(\"Matriz de Confusión:\")\n",
    "conf_matrix = confusion_matrix(y_test, y_pred)\n",
    "print(conf_matrix)"
   ]
  },
  {
   "cell_type": "code",
   "execution_count": 17,
   "metadata": {},
   "outputs": [
    {
     "data": {
      "image/png": "[encoded data removed]",
      "text/plain": [
       "<Figure size 640x480 with 2 Axes>"
      ]
     },
     "metadata": {},
     "output_type": "display_data"
    }
   ],
   "source": [
    "# Visualizar la matriz de confusión\n",
    "sns.heatmap(conf_matrix, annot=True, fmt='d', cmap='Blues', xticklabels=['No Fraude', 'Fraude'], yticklabels=['No Fraude', 'Fraude'])\n",
    "plt.xlabel('Predicción')\n",
    "plt.ylabel('Actual')\n",
    "plt.title('Matriz de Confusión')\n",
    "plt.show()"
   ]
  },
  {
   "cell_type": "code",
   "execution_count": 18,
   "metadata": {},
   "outputs": [
    {
     "name": "stdout",
     "output_type": "stream",
     "text": [
      "Reporte de Clasificación:\n",
      "              precision    recall  f1-score   support\n",
      "\n",
      "           0       0.94      0.98      0.96     56863\n",
      "           1       0.98      0.94      0.96     56863\n",
      "\n",
      "    accuracy                           0.96    113726\n",
      "   macro avg       0.96      0.96      0.96    113726\n",
      "weighted avg       0.96      0.96      0.96    113726\n",
      "\n"
     ]
    }
   ],
   "source": [
    "# Métricas de clasificación\n",
    "print(\"Reporte de Clasificación:\")\n",
    "print(classification_report(y_test, y_pred))"
   ]
  },
  {
   "cell_type": "code",
   "execution_count": 19,
   "metadata": {},
   "outputs": [
    {
     "name": "stdout",
     "output_type": "stream",
     "text": [
      "Index(['V4', 'V10', 'V11', 'V12', 'V14', 'V16', 'V17', 'V2', 'V3', 'V7', 'V21',\n",
      "       'Amount'],\n",
      "      dtype='object')\n"
     ]
    }
   ],
   "source": [
    "print(X_train.columns)"
   ]
  },
  {
   "cell_type": "code",
   "execution_count": 22,
   "metadata": {},
   "outputs": [
    {
     "name": "stdout",
     "output_type": "stream",
     "text": [
      "   Amount     Fraude\n",
      "0   100.0     Fraude\n",
      "1   200.0  No_Fraude\n"
     ]
    }
   ],
   "source": [
    "# Ejemplo de nuevos datos de transacciones (reemplaza con tus datos)\n",
    "nuevas_transacciones = pd.DataFrame({\n",
    "    'V4': [1.5, -2.3],\n",
    "    'V10': [-1.2, 0.5],\n",
    "    'V11': [0.3, -1.7],\n",
    "    'V12': [-0.7, 1.2],\n",
    "    'V14': [1.8, -0.5],\n",
    "    'V16': [-0.5, 0.7],\n",
    "    'V17': [0.9, -1.4],\n",
    "    'V2': [-0.5, 1.2],\n",
    "    'V3': [0.4, 1.5],\n",
    "    'V7': [-0.2, 0.8],\n",
    "    'V21': [0.1, -0.3],\n",
    "    'Amount': [100.0, 200.0]\n",
    "})\n",
    "\n",
    "# Escalar los nuevos datos\n",
    "nuevas_transacciones_scaled = scaler.transform(nuevas_transacciones)\n",
    "\n",
    "# Realizar predicciones\n",
    "predicciones = model.predict(nuevas_transacciones_scaled)\n",
    "\n",
    "# Mostrar resultados\n",
    "nuevas_transacciones['Predicción'] = predicciones\n",
    "nuevas_transacciones['Fraude'] = nuevas_transacciones['Predicción'].apply(lambda x: 'No_Fraude' if x == 0 else 'Fraude')\n",
    "\n",
    "print(nuevas_transacciones[['Amount', 'Fraude']])"
   ]
  },
  {
   "cell_type": "markdown",
   "metadata": {},
   "source": [
    "### Definir los residuos en clasificación\n",
    "\n",
    "En un modelo de clasificación binaria (como en tu caso de detección de fraude), la predicción es una clase (0 o 1, \"No Fraude\" o \"Fraude\"). El \"residuo\" puede definirse como la diferencia entre la predicción y el valor verdadero, aunque en clasificación esto se mide de manera diferente, ya que no tienes un valor continuo, sino una clase.\n",
    "\n",
    "Los residuos para un modelo de clasificación pueden ser interpretados de las siguientes maneras:\n",
    "\n",
    "Falsos positivos: Predijiste que algo es fraude (1) cuando en realidad no lo es (0).\n",
    "\n",
    "Falsos negativos: Predijiste que algo no es fraude (0) cuando en realidad lo es (1).\n",
    "\n",
    "Verdaderos positivos: Predijiste correctamente que algo es fraude (1).\n",
    "\n",
    "Verdaderos negativos: Predijiste correctamente que algo no es fraude (0).\n",
    "\n",
    "### Cálculo de los residuos en clasificación\n",
    "\n",
    "Para obtener un análisis de los \"residuos\" en clasificación, podemos usar las siguientes métricas:\n",
    "\n",
    "Matriz de confusión: Te da una idea clara de cuántos falsos positivos, falsos negativos, verdaderos positivos y verdaderos negativos cometió el modelo.\n",
    "\n",
    "Curva ROC y AUC (Área bajo la curva): Te permite visualizar cómo cambia el rendimiento del modelo en función de diferentes umbrales de clasificación.\n",
    "\n",
    "Precisión, Recall y F1-Score: Evaluaciones de cuán bien está clasificando el modelo.\n",
    "\n",
    "### Evaluación con la matriz de confusión\n",
    "\n",
    "Primero, calculemos la matriz de confusión para entender cómo se están comportando los residuos de tu modelo (es decir, los falsos positivos, falsos negativos, verdaderos positivos y verdaderos negativos):"
   ]
  },
  {
   "cell_type": "code",
   "execution_count": 7,
   "metadata": {},
   "outputs": [
    {
     "name": "stdout",
     "output_type": "stream",
     "text": [
      "Matriz de Confusión:\n",
      "[[55638  1225]\n",
      " [ 3259 53604]]\n",
      "\n",
      "Reporte de Clasificación:\n",
      "              precision    recall  f1-score   support\n",
      "\n",
      "           0       0.94      0.98      0.96     56863\n",
      "           1       0.98      0.94      0.96     56863\n",
      "\n",
      "    accuracy                           0.96    113726\n",
      "   macro avg       0.96      0.96      0.96    113726\n",
      "weighted avg       0.96      0.96      0.96    113726\n",
      "\n"
     ]
    }
   ],
   "source": [
    "# Matriz de confusión\n",
    "conf_matrix = confusion_matrix(y_test, y_pred)\n",
    "print(\"Matriz de Confusión:\")\n",
    "print(conf_matrix)\n",
    "\n",
    "# Reporte de clasificación: Precisión, Recall, F1-Score\n",
    "class_report = classification_report(y_test, y_pred)\n",
    "print(\"\\nReporte de Clasificación:\")\n",
    "print(class_report)\n"
   ]
  },
  {
   "cell_type": "markdown",
   "metadata": {},
   "source": [
    "### Curva ROC y AUC\n",
    "\n",
    "La Curva ROC y el Área bajo la curva (AUC) son herramientas útiles para evaluar cómo se comporta el modelo a diferentes umbrales de decisión. Puedes evaluar la calidad del modelo incluso cuando la precisión de clasificación es imbalanced (en problemas como detección de fraude, donde el fraude es mucho menos frecuente que las transacciones normales)."
   ]
  },
  {
   "cell_type": "code",
   "execution_count": 8,
   "metadata": {},
   "outputs": [
    {
     "data": {
      "image/png": "[encoded data removed]",
      "text/plain": [
       "<Figure size 800x600 with 1 Axes>"
      ]
     },
     "metadata": {},
     "output_type": "display_data"
    },
    {
     "name": "stdout",
     "output_type": "stream",
     "text": [
      "AUC: 0.991139188722077\n"
     ]
    }
   ],
   "source": [
    "# Obtener las probabilidades de las clases\n",
    "y_prob = model.predict_proba(X_test_scaled)[:, 1]  # Probabilidad de clase positiva (fraude)\n",
    "\n",
    "# Calcular la curva ROC\n",
    "fpr, tpr, thresholds = roc_curve(y_test, y_prob)\n",
    "\n",
    "# Calcular el área bajo la curva (AUC)\n",
    "roc_auc = auc(fpr, tpr)\n",
    "\n",
    "# Graficar la curva ROC\n",
    "plt.figure(figsize=(8, 6))\n",
    "plt.plot(fpr, tpr, color='darkorange', lw=2, label='Curva ROC (AUC = %0.2f)' % roc_auc)\n",
    "plt.plot([0, 1], [0, 1], color='navy', lw=2, linestyle='--', label='Línea de referencia')\n",
    "plt.xlim([0.0, 1.0])\n",
    "plt.ylim([0.0, 1.05])\n",
    "plt.xlabel('Tasa de falsos positivos')\n",
    "plt.ylabel('Tasa de verdaderos positivos')\n",
    "plt.title('Curva ROC')\n",
    "plt.legend(loc='lower right')\n",
    "plt.show()\n",
    "\n",
    "print(f\"AUC: {roc_auc}\")\n"
   ]
  },
  {
   "cell_type": "markdown",
   "metadata": {},
   "source": [
    "### Ajuste del modelo para mejorar la precisión\n",
    "\n",
    "Basándote en la evaluación de los residuos (falsos positivos y falsos negativos), puedes realizar varias acciones para mejorar el modelo:\n",
    "\n",
    "1. Reajustar el umbral de clasificación: En lugar de usar el umbral estándar de 0.5 para hacer la clasificación, puedes ajustarlo para ser más conservador en la predicción de fraudes. Por ejemplo, podrías bajar el umbral para que el modelo sea más sensible a las transacciones fraudulentas (es decir, se incline más hacia predecir \"Fraude\")."
   ]
  },
  {
   "cell_type": "code",
   "execution_count": 9,
   "metadata": {},
   "outputs": [
    {
     "name": "stdout",
     "output_type": "stream",
     "text": [
      "[[54115  2748]\n",
      " [ 2290 54573]]\n",
      "              precision    recall  f1-score   support\n",
      "\n",
      "           0       0.96      0.95      0.96     56863\n",
      "           1       0.95      0.96      0.96     56863\n",
      "\n",
      "    accuracy                           0.96    113726\n",
      "   macro avg       0.96      0.96      0.96    113726\n",
      "weighted avg       0.96      0.96      0.96    113726\n",
      "\n"
     ]
    }
   ],
   "source": [
    "# Ajuste del umbral\n",
    "nuevo_umbral = 0.3  # Umbral más bajo\n",
    "y_pred_nuevo = (y_prob >= nuevo_umbral).astype(int)\n",
    "\n",
    "# Evaluar nuevamente\n",
    "print(confusion_matrix(y_test, y_pred_nuevo))\n",
    "print(classification_report(y_test, y_pred_nuevo))"
   ]
  },
  {
   "cell_type": "markdown",
   "metadata": {},
   "source": [
    "### Guardando el modelo"
   ]
  },
  {
   "cell_type": "code",
   "execution_count": 11,
   "metadata": {},
   "outputs": [
    {
     "name": "stdout",
     "output_type": "stream",
     "text": [
      "Modelo guardado como 'modelo_fraude.joblib'\n"
     ]
    }
   ],
   "source": [
    "joblib.dump(model, '../model/modelo_fraude.joblib')\n",
    "print(\"Modelo guardado como 'modelo_fraude.joblib'\")"
   ]
  },
  {
   "cell_type": "markdown",
   "metadata": {},
   "source": [
    "### Guardamos el preprocesador"
   ]
  },
  {
   "cell_type": "code",
   "execution_count": 26,
   "metadata": {},
   "outputs": [
    {
     "name": "stdout",
     "output_type": "stream",
     "text": [
      "Scaler guardado como 'scaler.joblib'\n"
     ]
    }
   ],
   "source": [
    "joblib.dump(scaler, '../model/scaler.joblib')\n",
    "print(\"Scaler guardado como 'scaler.joblib'\")"
   ]
  }
 ],
 "metadata": {
  "kernelspec": {
   "display_name": "Python 3",
   "language": "python",
   "name": "python3"
  },
  "language_info": {
   "codemirror_mode": {
    "name": "ipython",
    "version": 3
   },
   "file_extension": ".py",
   "mimetype": "text/x-python",
   "name": "python",
   "nbconvert_exporter": "python",
   "pygments_lexer": "ipython3",
   "version": "3.12.7"
  }
 },
 "nbformat": 4,
 "nbformat_minor": 2
}
